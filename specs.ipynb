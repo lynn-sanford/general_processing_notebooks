{
 "cells": [
  {
   "cell_type": "code",
   "execution_count": 1,
   "metadata": {},
   "outputs": [],
   "source": [
    "import itertools\n",
    "import datetime\n",
    "import pandas as pd\n",
    "import numpy as np\n",
    "import scipy.stats as sc\n",
    "from sys import argv\n",
    "import random\n",
    "import math"
   ]
  },
  {
   "cell_type": "code",
   "execution_count": 2,
   "metadata": {},
   "outputs": [],
   "source": [
    "def rankdata(a, method='average'):\n",
    "    arr = np.ravel(np.asarray(a))\n",
    "    algo = 'mergesort' if method == 'ordinal' else 'quicksort'\n",
    "    sorter = np.argsort(arr, kind=algo)\n",
    "    inv = np.empty(sorter.size, dtype=np.intp)\n",
    "    inv[sorter] = np.arange(sorter.size, dtype=np.intp)\n",
    "    arr = arr[sorter]\n",
    "    obs = np.r_[True, arr[1:] != arr[:-1]]\n",
    "    dense = obs.cumsum()[inv]\n",
    "    # cumulative counts of each unique value\n",
    "    count = np.r_[np.nonzero(obs)[0], len(obs)]\n",
    "    # average method\n",
    "    return .5 * (count[dense] + count[dense - 1] + 1)\n",
    "\n",
    "def mannwhitneyu(x, y):\n",
    "    x = np.asarray(x)\n",
    "    y = np.asarray(y)\n",
    "    n1 = len(x)\n",
    "    n2 = len(y)\n",
    "    ranked = rankdata(np.concatenate((x, y)))\n",
    "    rankx = ranked[0:n1]  # get the x-ranks\n",
    "    u1 = n1*n2 + (n1*(n1+1))/2.0 - np.sum(rankx, axis=0)  # calc U for x\n",
    "    u2 = n1*n2 - u1  # remainder is U for y\n",
    "    return(u2)\n",
    "\n",
    "def variance_pi(x1,x2):\n",
    "    n1 = len(x1)\n",
    "    n2 = len(x2)\n",
    "    wc_stat = mannwhitneyu(x1,x2)\n",
    "    pi = wc_stat/(n1*n2)\n",
    "    return(pi)"
   ]
  },
  {
   "cell_type": "code",
   "execution_count": 3,
   "metadata": {},
   "outputs": [],
   "source": [
    "# Read in count data and metadata\n",
    "\n",
    "datafile = '/mnt/d/Zarko/Documents/Work/Dowell_lab_post_doc/Data/db_specs/mouse/count_tpm/tpm_output.txt'\n",
    "metafile = '/mnt/d/Zarko/Documents/Work/Dowell_lab_post_doc/Data/db_specs/mouse/220831_mouse_control.tsv'\n",
    "\n",
    "with open(datafile) as f:\n",
    "    countdata = []\n",
    "    for line in f:\n",
    "        data = tuple(line.strip().split(\"\\t\"))\n",
    "        countdata.append(data)\n",
    "\n",
    "with open(metafile) as f:\n",
    "    metadata = []\n",
    "    for line in f:\n",
    "        meta = tuple(line.strip().split(\"\\t\"))\n",
    "        metadata.append(meta)\n",
    "\n",
    "count_df = pd.DataFrame(countdata[1:], columns=countdata[0])\n",
    "count_df.index = count_df.loc[:,\"gene_id\"]\n",
    "count_df = count_df.iloc[:,:-2]\n",
    "count_df.replace(\"NA\",0,inplace=True)\n",
    "count_df = count_df.astype('float')"
   ]
  },
  {
   "cell_type": "code",
   "execution_count": 5,
   "metadata": {},
   "outputs": [],
   "source": [
    "# Determine unique tissues, with and without disease\n",
    "metadata_all = pd.DataFrame(metadata[1:], columns=metadata[0])\n",
    "metadata_all = metadata_all[metadata_all[\"sample_name\"].isin(list(count_df.columns))]\n",
    "metadata_nondisease = metadata_all[metadata_all[\"disease\"] == \"0\"]\n",
    "metadata_disease = metadata_all[metadata_all[\"disease\"] == \"1\"]\n",
    "\n",
    "tissues_unique = np.unique(metadata_all[\"tissue\"])\n",
    "tissues_nondisease_unique = np.unique(metadata_nondisease[\"tissue\"])\n",
    "tissues_disease_unique = np.unique(metadata_disease[\"tissue\"])"
   ]
  },
  {
   "cell_type": "code",
   "execution_count": 7,
   "metadata": {},
   "outputs": [],
   "source": [
    "#calculate weight factor, in this case equally weighted\n",
    "weight = 1/(len(tissues_nondisease_unique)-1)\n",
    "\n",
    "nsamps = len(tissues_nondisease_unique)\n",
    "nrna = len(count_df)\n",
    "\n",
    "#read names transcripts\n",
    "mw_RNA = np.zeros((nrna, nsamps))\n",
    "s_RNA = np.zeros((nrna, nsamps))\n",
    "mwtest_RNA = pd.DataFrame(columns=tissues_nondisease_unique)"
   ]
  },
  {
   "cell_type": "code",
   "execution_count": 7,
   "metadata": {
    "tags": []
   },
   "outputs": [
    {
     "data": {
      "text/plain": [
       "datetime.datetime(2022, 4, 4, 19, 17, 57, 108006)"
      ]
     },
     "execution_count": 7,
     "metadata": {},
     "output_type": "execute_result"
    }
   ],
   "source": [
    "### Not the current implementation - see cell below\n",
    "\n",
    "\n",
    "datetime.datetime.now()\n",
    "i=0\n",
    "#calculation of score for each transcript\n",
    "for transcript in countdata[1:]:\n",
    "    tmp_RNA = transcript[:-2]\n",
    "    tmp_RNA = np.array([float(value) for value in tmp_RNA])\n",
    "\n",
    "    j=0\n",
    "    #run through next loop for each cancer type (d)\n",
    "    for celltype in celltypes_unique:\n",
    "        samp_indeces = np.where(celltypes == celltype)[0]      \n",
    "        tmp_RNA_selected = tmp_RNA[samp_indeces]\n",
    "        celltypes_non = celltypes_unique[celltypes_unique != celltype]\n",
    "\n",
    "        ptot_dis = 0\n",
    "        var_list = []\n",
    "        p_list = []\n",
    "        #compare with each cancer type not d (k)\n",
    "        cov_matrix = np.zeros(shape=(len(celltypes_non),len(celltypes_non)))\n",
    "        k=0\n",
    "        for comp_celltype in celltypes_non:\n",
    "            l=0\n",
    "            comp_indeces = np.where(celltypes == comp_celltype)[0]\n",
    "            tmp_RNA_comp = tmp_RNA[comp_indeces]\n",
    "            wc_stat_kd = variance_pi(tmp_RNA_selected,tmp_RNA_comp)\n",
    "            ptot_dis = ptot_dis + wc_stat_kd * weight\n",
    "            p_list.append(wc_stat_kd)\n",
    "        mw_RNA[i,j] = ptot_dis\n",
    "        j += 1\n",
    "    i += 1\n",
    "datetime.datetime.now()"
   ]
  },
  {
   "cell_type": "code",
   "execution_count": null,
   "metadata": {},
   "outputs": [
    {
     "name": "stderr",
     "output_type": "stream",
     "text": [
      "/usr/local/lib/python3.6/dist-packages/ipykernel_launcher.py:18: SettingWithCopyWarning: \n",
      "A value is trying to be set on a copy of a slice from a DataFrame.\n",
      "Try using .loc[row_indexer,col_indexer] = value instead\n",
      "\n",
      "See the caveats in the documentation: http://pandas.pydata.org/pandas-docs/stable/indexing.html#indexing-view-versus-copy\n",
      "/usr/local/lib/python3.6/dist-packages/ipykernel_launcher.py:21: SettingWithCopyWarning: \n",
      "A value is trying to be set on a copy of a slice from a DataFrame.\n",
      "Try using .loc[row_indexer,col_indexer] = value instead\n",
      "\n",
      "See the caveats in the documentation: http://pandas.pydata.org/pandas-docs/stable/indexing.html#indexing-view-versus-copy\n",
      "/usr/local/lib/python3.6/dist-packages/ipykernel_launcher.py:22: SettingWithCopyWarning: \n",
      "A value is trying to be set on a copy of a slice from a DataFrame.\n",
      "Try using .loc[row_indexer,col_indexer] = value instead\n",
      "\n",
      "See the caveats in the documentation: http://pandas.pydata.org/pandas-docs/stable/indexing.html#indexing-view-versus-copy\n",
      "/usr/local/lib/python3.6/dist-packages/ipykernel_launcher.py:23: SettingWithCopyWarning: \n",
      "A value is trying to be set on a copy of a slice from a DataFrame.\n",
      "Try using .loc[row_indexer,col_indexer] = value instead\n",
      "\n",
      "See the caveats in the documentation: http://pandas.pydata.org/pandas-docs/stable/indexing.html#indexing-view-versus-copy\n"
     ]
    }
   ],
   "source": [
    "datetime.datetime.now()\n",
    "#run through next loop for each tissue type (d)\n",
    "for tissue in tissues_nondisease_unique:\n",
    "    tissues_noncurr = tissues_nondisease_unique[tissues_nondisease_unique != tissue]\n",
    "    curr_samples = list(metadata_all[(metadata_all[\"tissue\"] == tissue) &\n",
    "                                     (metadata_all[\"disease\"] == \"0\")][\"sample_name\"])\n",
    "    countdata_d = count_df[curr_samples]\n",
    "    countdata_d.insert(len(countdata_d.columns), \"I_kidj\", [0]*len(countdata_d), True)\n",
    "    #countdata_d.insert(len(countdata_d.columns), \"I_kidj_temp\", [0]*len(countdata_d), True)\n",
    "    countdata_d.insert(len(countdata_d.columns), \"ptot_dis\", [0]*len(countdata_d), True)\n",
    "    countdata_d.insert(len(countdata_d.columns), \"I_kidj_norm\", [0]*len(countdata_d), True)\n",
    "\n",
    "    #compare with each tissue type not d (k)\n",
    "    for comp_type in tissues_noncurr:\n",
    "        comp_samples = list(metadata_all[(metadata_all[\"tissue\"] == comp_type) &\n",
    "                                         (metadata_all[\"disease\"] == \"0\")][\"sample_name\"])\n",
    "        countdata_k = count_df[comp_samples]\n",
    "        countdata_d['I_kidj'] = [0]*len(countdata_d)\n",
    "        for colk in countdata_k.columns:\n",
    "            for cold in countdata_d.columns[:-3]:\n",
    "                countdata_d['I_kidj'] = np.where((countdata_k[colk] < countdata_d[cold]), (countdata_d['I_kidj'] + 1), countdata_d['I_kidj'])\n",
    "        countdata_d['I_kidj_norm'] = countdata_d['I_kidj']/(len(countdata_k.columns)*len(countdata_d.columns[:-3]))\n",
    "        countdata_d['ptot_dis'] = countdata_d['ptot_dis'] + countdata_d['I_kidj_norm'] * weight\n",
    "    mwtest_RNA[tissue] = countdata_d['ptot_dis']\n",
    "datetime.datetime.now()"
   ]
  },
  {
   "cell_type": "code",
   "execution_count": 8,
   "metadata": {},
   "outputs": [],
   "source": [
    "#writing output\n",
    "rnas = []\n",
    "for entry in countdata[1:]:\n",
    "    rnas.append(entry[-2])"
   ]
  },
  {
   "cell_type": "code",
   "execution_count": 9,
   "metadata": {},
   "outputs": [],
   "source": [
    "mw_RNA = pd.DataFrame(mw_RNA, index=rnas, columns=celltypes_unique)\n",
    "mw_RNA.to_csv('/mnt/c/Users/Zarko/Desktop/specs_tests/gt5samps/specs_results_pall.txt', sep='\\t', index=True, header=True)\n",
    "\n",
    "mw_max_type = pd.concat([mw_RNA.max(axis=1),mw_RNA.idxmax(axis=1)], axis=1)\n",
    "mw_max_type = mw_max_type.sort_values(by=[0,1], axis=0, ascending=False)\n",
    "mw_max_type.to_csv('/mnt/c/Users/Zarko/Desktop/specs_tests/gt5samps/specs_results_onco_out.txt', sep='\\t', index=True, header=False)\n",
    "\n",
    "mw_min_type = pd.concat([mw_RNA.min(axis=1),mw_RNA.idxmin(axis=1)], axis=1)\n",
    "mw_min_type = mw_min_type.sort_values(by=[0,1], axis=0, ascending=False)\n",
    "mw_min_type.to_csv('/mnt/c/Users/Zarko/Desktop/specs_tests/gt5samps/specs_results_tumsup_out.txt', sep='\\t', index=True, header=False)"
   ]
  },
  {
   "cell_type": "code",
   "execution_count": 10,
   "metadata": {},
   "outputs": [],
   "source": [
    "mwtest_RNA.to_csv('/mnt/c/Users/Zarko/Desktop/specs_tests/gt5samps/specs_results_otheriter_pall.txt', sep='\\t', index=True, header=True)\n",
    "\n",
    "mw_max_type = pd.concat([mwtest_RNA.max(axis=1),mwtest_RNA.idxmax(axis=1)], axis=1)\n",
    "mw_max_type = mw_max_type.sort_values(by=[0,1], axis=0, ascending=False)\n",
    "mw_max_type.to_csv('/mnt/c/Users/Zarko/Desktop/specs_tests/gt5samps/specs_results_otheriter_onco_out.txt', sep='\\t', index=True, header=False)\n",
    "\n",
    "mw_min_type = pd.concat([mwtest_RNA.min(axis=1),mwtest_RNA.idxmin(axis=1)], axis=1)\n",
    "mw_min_type = mw_min_type.sort_values(by=[0,1], axis=0, ascending=False)\n",
    "mw_min_type.to_csv('/mnt/c/Users/Zarko/Desktop/specs_tests/gt5samps/specs_results_otheriter_tumsup_out.txt', sep='\\t', index=True, header=False)"
   ]
  },
  {
   "cell_type": "code",
   "execution_count": null,
   "metadata": {},
   "outputs": [],
   "source": []
  }
 ],
 "metadata": {
  "kernelspec": {
   "display_name": "Python 3",
   "language": "python",
   "name": "python3"
  },
  "language_info": {
   "codemirror_mode": {
    "name": "ipython",
    "version": 3
   },
   "file_extension": ".py",
   "mimetype": "text/x-python",
   "name": "python",
   "nbconvert_exporter": "python",
   "pygments_lexer": "ipython3",
   "version": "3.6.5"
  }
 },
 "nbformat": 4,
 "nbformat_minor": 4
}
