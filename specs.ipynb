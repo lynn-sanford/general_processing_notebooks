{
 "cells": [
  {
   "cell_type": "code",
   "execution_count": 1,
   "metadata": {},
   "outputs": [],
   "source": [
    "import itertools\n",
    "import datetime\n",
    "import pandas as pd\n",
    "import numpy as np\n",
    "import scipy.stats as sc\n",
    "from sys import argv\n",
    "import random\n",
    "import math"
   ]
  },
  {
   "cell_type": "code",
   "execution_count": 2,
   "metadata": {},
   "outputs": [],
   "source": [
    "def rankdata(a, method='average'):\n",
    "    arr = np.ravel(np.asarray(a))\n",
    "    algo = 'mergesort' if method == 'ordinal' else 'quicksort'\n",
    "    sorter = np.argsort(arr, kind=algo)\n",
    "    inv = np.empty(sorter.size, dtype=np.intp)\n",
    "    inv[sorter] = np.arange(sorter.size, dtype=np.intp)\n",
    "    arr = arr[sorter]\n",
    "    obs = np.r_[True, arr[1:] != arr[:-1]]\n",
    "    dense = obs.cumsum()[inv]\n",
    "    # cumulative counts of each unique value\n",
    "    count = np.r_[np.nonzero(obs)[0], len(obs)]\n",
    "    # average method\n",
    "    return .5 * (count[dense] + count[dense - 1] + 1)\n",
    "\n",
    "def mannwhitneyu(x, y):\n",
    "    x = np.asarray(x)\n",
    "    y = np.asarray(y)\n",
    "    n1 = len(x)\n",
    "    n2 = len(y)\n",
    "    ranked = rankdata(np.concatenate((x, y)))\n",
    "    rankx = ranked[0:n1]  # get the x-ranks\n",
    "    u1 = n1*n2 + (n1*(n1+1))/2.0 - np.sum(rankx, axis=0)  # calc U for x\n",
    "    u2 = n1*n2 - u1  # remainder is U for y\n",
    "    return(u2)\n",
    "\n",
    "def variance_pi(x1,x2):\n",
    "    n1 = len(x1)\n",
    "    n2 = len(x2)\n",
    "    wc_stat = mannwhitneyu(x1,x2)\n",
    "    pi = wc_stat/(n1*n2)\n",
    "    return(pi)"
   ]
  },
  {
   "cell_type": "code",
   "execution_count": 3,
   "metadata": {},
   "outputs": [],
   "source": [
    "# Read in count data and metadata\n",
    "\n",
    "datafile = '/mnt/c/Users/Zarko/Desktop/specs_tests/gt5samps/count_tpm/tpm_output.txt'\n",
    "metafile = '/mnt/c/Users/Zarko/Desktop/specs_tests/gt5samps/control_gt5samples_lumpHEKs.tsv'\n",
    "\n",
    "with open(datafile) as f:\n",
    "    countdata = []\n",
    "    for line in f:\n",
    "        data = tuple(line.strip().split(\"\\t\"))\n",
    "        countdata.append(data)\n",
    "\n",
    "with open(metafile) as f:\n",
    "    metadata = []\n",
    "    for line in f:\n",
    "        meta = tuple(line.strip().split(\"\\t\"))\n",
    "        metadata.append(meta)\n",
    "\n",
    "countdata_pd = pd.DataFrame(countdata[1:], columns=countdata[0])\n",
    "countdata_pd.index = countdata_pd.loc[:,\"gene_id\"]\n",
    "countdata_pd = countdata_pd.iloc[:,:-2]\n",
    "countdata_pd = countdata_pd.astype('float')"
   ]
  },
  {
   "cell_type": "code",
   "execution_count": 4,
   "metadata": {},
   "outputs": [],
   "source": [
    "# Determine unique cell types\n",
    "celltypes = []\n",
    "for i in range(len(metadata[0])):\n",
    "    if metadata[0][i] == 'cell_type':\n",
    "        index = i\n",
    "\n",
    "for meta in metadata[1:]:\n",
    "    celltypes.append(meta[index])\n",
    "\n",
    "celltypes = np.array(celltypes)\n",
    "celltypes_unique = np.unique(celltypes)"
   ]
  },
  {
   "cell_type": "code",
   "execution_count": 5,
   "metadata": {},
   "outputs": [],
   "source": [
    "#calculate weight factor, in this case equally weighted\n",
    "weight = 1/(len(celltypes_unique)-1)\n",
    "\n",
    "nsamps = len(celltypes_unique)\n",
    "nrna = len(countdata) - 1\n",
    "\n",
    "#read names transcripts\n",
    "mw_RNA = np.zeros((nrna, nsamps))\n",
    "s_RNA = np.zeros((nrna, nsamps))\n",
    "mwtest_RNA = pd.DataFrame(columns=celltypes_unique)"
   ]
  },
  {
   "cell_type": "code",
   "execution_count": 7,
   "metadata": {
    "tags": []
   },
   "outputs": [
    {
     "data": {
      "text/plain": [
       "datetime.datetime(2022, 4, 4, 19, 17, 57, 108006)"
      ]
     },
     "execution_count": 7,
     "metadata": {},
     "output_type": "execute_result"
    }
   ],
   "source": [
    "datetime.datetime.now()\n",
    "i=0\n",
    "#calculation of score for each transcript\n",
    "for transcript in countdata[1:]:\n",
    "    tmp_RNA = transcript[:-2]\n",
    "    tmp_RNA = np.array([float(value) for value in tmp_RNA])\n",
    "\n",
    "    j=0\n",
    "    #run through next loop for each cancer type (d)\n",
    "    for celltype in celltypes_unique:\n",
    "        samp_indeces = np.where(celltypes == celltype)[0]      \n",
    "        tmp_RNA_selected = tmp_RNA[samp_indeces]\n",
    "        celltypes_non = celltypes_unique[celltypes_unique != celltype]\n",
    "\n",
    "        ptot_dis = 0\n",
    "        var_list = []\n",
    "        p_list = []\n",
    "        #compare with each cancer type not d (k)\n",
    "        cov_matrix = np.zeros(shape=(len(celltypes_non),len(celltypes_non)))\n",
    "        k=0\n",
    "        for comp_celltype in celltypes_non:\n",
    "            l=0\n",
    "            comp_indeces = np.where(celltypes == comp_celltype)[0]\n",
    "            tmp_RNA_comp = tmp_RNA[comp_indeces]\n",
    "            wc_stat_kd = variance_pi(tmp_RNA_selected,tmp_RNA_comp)\n",
    "            ptot_dis = ptot_dis + wc_stat_kd * weight\n",
    "            p_list.append(wc_stat_kd)\n",
    "        mw_RNA[i,j] = ptot_dis\n",
    "        j += 1\n",
    "    i += 1\n",
    "datetime.datetime.now()"
   ]
  },
  {
   "cell_type": "code",
   "execution_count": 6,
   "metadata": {},
   "outputs": [
    {
     "name": "stderr",
     "output_type": "stream",
     "text": [
      "/usr/local/lib/python3.6/dist-packages/pandas-0.23.1-py3.6-linux-x86_64.egg/pandas/core/indexing.py:543: SettingWithCopyWarning: \n",
      "A value is trying to be set on a copy of a slice from a DataFrame.\n",
      "Try using .loc[row_indexer,col_indexer] = value instead\n",
      "\n",
      "See the caveats in the documentation: http://pandas.pydata.org/pandas-docs/stable/indexing.html#indexing-view-versus-copy\n",
      "  self.obj[item] = s\n"
     ]
    },
    {
     "data": {
      "text/plain": [
       "datetime.datetime(2022, 4, 4, 18, 13, 40, 572715)"
      ]
     },
     "execution_count": 6,
     "metadata": {},
     "output_type": "execute_result"
    }
   ],
   "source": [
    "datetime.datetime.now()\n",
    "#run through next loop for each cancer type (d)\n",
    "for celltype in celltypes_unique:\n",
    "    celltypes_non = celltypes_unique[celltypes_unique != celltype]\n",
    "    samp_indeces = np.where(celltypes == celltype)[0]        \n",
    "    countdata_d = countdata_pd.iloc[:, samp_indeces]\n",
    "    countdata_d.insert(len(countdata_d.columns), \"I_kidj\", [0]*len(countdata_d), True)\n",
    "    #countdata_d.insert(len(countdata_d.columns), \"I_kidj_temp\", [0]*len(countdata_d), True)\n",
    "    countdata_d.insert(len(countdata_d.columns), \"ptot_dis\", [0]*len(countdata_d), True)\n",
    "    countdata_d.insert(len(countdata_d.columns), \"I_kidj_norm\", [0]*len(countdata_d), True)\n",
    "\n",
    "    #compare with each cancer type not d (k)\n",
    "    for comp_celltype in celltypes_non:\n",
    "        comp_indeces = np.where(celltypes == comp_celltype)[0]\n",
    "        countdata_k = countdata_pd.iloc[:, comp_indeces]\n",
    "        countdata_d.loc[:,'I_kidj'] = [0]*len(countdata_d)\n",
    "        for colk in countdata_k.columns:\n",
    "            for cold in countdata_d.columns[:-3]:\n",
    "#                comp_df = pd.DataFrame(colk: )\n",
    "                countdata_d.loc[:,'I_kidj'] = np.where((countdata_k.loc[:,colk] < countdata_d.loc[:,cold]), (countdata_d.loc[:,'I_kidj'] + 1), countdata_d.loc[:,'I_kidj'])\n",
    "    #            countdata_d.loc[:,'I_kidj'] = countdata_d.loc[:,'I_kidj_temp']\n",
    "        countdata_d.loc[:,'I_kidj_norm'] = countdata_d.loc[:,'I_kidj']/(len(countdata_k.columns)*len(countdata_d.columns[:-3]))\n",
    "        countdata_d.loc[:,'ptot_dis'] = countdata_d.loc[:,'ptot_dis'] + countdata_d.loc[:,'I_kidj_norm'] * weight\n",
    "    mwtest_RNA[celltype] = countdata_d['ptot_dis']\n",
    "datetime.datetime.now()"
   ]
  },
  {
   "cell_type": "code",
   "execution_count": 8,
   "metadata": {},
   "outputs": [],
   "source": [
    "#writing output\n",
    "rnas = []\n",
    "for entry in countdata[1:]:\n",
    "    rnas.append(entry[-2])"
   ]
  },
  {
   "cell_type": "code",
   "execution_count": 9,
   "metadata": {},
   "outputs": [],
   "source": [
    "mw_RNA = pd.DataFrame(mw_RNA, index=rnas, columns=celltypes_unique)\n",
    "mw_RNA.to_csv('/mnt/c/Users/Zarko/Desktop/specs_tests/gt5samps/specs_results_pall.txt', sep='\\t', index=True, header=True)\n",
    "\n",
    "mw_max_type = pd.concat([mw_RNA.max(axis=1),mw_RNA.idxmax(axis=1)], axis=1)\n",
    "mw_max_type = mw_max_type.sort_values(by=[0,1], axis=0, ascending=False)\n",
    "mw_max_type.to_csv('/mnt/c/Users/Zarko/Desktop/specs_tests/gt5samps/specs_results_onco_out.txt', sep='\\t', index=True, header=False)\n",
    "\n",
    "mw_min_type = pd.concat([mw_RNA.min(axis=1),mw_RNA.idxmin(axis=1)], axis=1)\n",
    "mw_min_type = mw_min_type.sort_values(by=[0,1], axis=0, ascending=False)\n",
    "mw_min_type.to_csv('/mnt/c/Users/Zarko/Desktop/specs_tests/gt5samps/specs_results_tumsup_out.txt', sep='\\t', index=True, header=False)"
   ]
  },
  {
   "cell_type": "code",
   "execution_count": 10,
   "metadata": {},
   "outputs": [],
   "source": [
    "mwtest_RNA.to_csv('/mnt/c/Users/Zarko/Desktop/specs_tests/gt5samps/specs_results_otheriter_pall.txt', sep='\\t', index=True, header=True)\n",
    "\n",
    "mw_max_type = pd.concat([mwtest_RNA.max(axis=1),mwtest_RNA.idxmax(axis=1)], axis=1)\n",
    "mw_max_type = mw_max_type.sort_values(by=[0,1], axis=0, ascending=False)\n",
    "mw_max_type.to_csv('/mnt/c/Users/Zarko/Desktop/specs_tests/gt5samps/specs_results_otheriter_onco_out.txt', sep='\\t', index=True, header=False)\n",
    "\n",
    "mw_min_type = pd.concat([mwtest_RNA.min(axis=1),mwtest_RNA.idxmin(axis=1)], axis=1)\n",
    "mw_min_type = mw_min_type.sort_values(by=[0,1], axis=0, ascending=False)\n",
    "mw_min_type.to_csv('/mnt/c/Users/Zarko/Desktop/specs_tests/gt5samps/specs_results_otheriter_tumsup_out.txt', sep='\\t', index=True, header=False)"
   ]
  },
  {
   "cell_type": "code",
   "execution_count": null,
   "metadata": {},
   "outputs": [],
   "source": []
  }
 ],
 "metadata": {
  "kernelspec": {
   "display_name": "Python 3",
   "language": "python",
   "name": "python3"
  },
  "language_info": {
   "codemirror_mode": {
    "name": "ipython",
    "version": 3
   },
   "file_extension": ".py",
   "mimetype": "text/x-python",
   "name": "python",
   "nbconvert_exporter": "python",
   "pygments_lexer": "ipython3",
   "version": "3.6.5"
  }
 },
 "nbformat": 4,
 "nbformat_minor": 4
}
