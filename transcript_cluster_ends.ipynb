{
 "cells": [
  {
   "cell_type": "markdown",
   "metadata": {},
   "source": [
    "# TSS_bed_generate.ipynb\n",
    "## This script takes in refseq annotation files of genes <br> and genes filtered for start codons and calculates <br> a window around either the 5' end of the gene <br> annotation or the start codon\n",
    "## This is the script used for making GTFs for counting hg38 and mm10 <br> genes in DBNascent, but has been updated for future GTFs <br> (See transcript_cluster_ends_v1.0.py) - the only differences are that this <br> script does not include transcripts exactly 100 bases apart <br> and has some differences in which transcript ID is used for those where <br> multiple transcripts match coordinates"
   ]
  },
  {
   "cell_type": "markdown",
   "metadata": {},
   "source": [
    "### Import libraries"
   ]
  },
  {
   "cell_type": "code",
   "execution_count": 125,
   "metadata": {},
   "outputs": [],
   "source": [
    "import math\n",
    "\n",
    "import numpy as np\n",
    "import pandas as pd"
   ]
  },
  {
   "cell_type": "markdown",
   "metadata": {},
   "source": [
    "### Define refseq input, output basename, and desired TSS window"
   ]
  },
  {
   "cell_type": "code",
   "execution_count": 126,
   "metadata": {},
   "outputs": [],
   "source": [
    "file1 = [\"/home/zarko/Data/annotation/\" \"hg38_refseq_genenames_included.bed\"]\n",
    "basename = \"hg38_refseq\"\n",
    "window = 50"
   ]
  },
  {
   "cell_type": "markdown",
   "metadata": {},
   "source": [
    "### Dump input files into variables"
   ]
  },
  {
   "cell_type": "code",
   "execution_count": 127,
   "metadata": {},
   "outputs": [],
   "source": [
    "with open(file1[0]) as f:\n",
    "    regions = []\n",
    "    for line in f:\n",
    "        reg = tuple(line.strip().split(\"\\t\"))\n",
    "        regions.append(reg)"
   ]
  },
  {
   "cell_type": "markdown",
   "metadata": {},
   "source": [
    "### Depending on accession (NM or NR), take most 5' coordinate <br> based on strand and (for NM) start codon, calculate windows <br> around them, and store windows in a printable bed format"
   ]
  },
  {
   "cell_type": "code",
   "execution_count": 128,
   "metadata": {},
   "outputs": [],
   "source": [
    "ts_ends = []\n",
    "\n",
    "for i in range(len(regions)):\n",
    "\n",
    "    # Don't use alternative chromosome builds\n",
    "    if \"_\" in regions[i][0]:\n",
    "        continue\n",
    "\n",
    "    # Find strand\n",
    "    strand = regions[i][5]\n",
    "\n",
    "    # Find most 5' coordinate of whole gene annotation or start codon\n",
    "    if strand == \"+\":\n",
    "        five_prime = int(regions[i][1])\n",
    "        three_prime = int(regions[i][2])\n",
    "    else:\n",
    "        five_prime = int(regions[i][2])\n",
    "        three_prime = int(regions[i][1])\n",
    "\n",
    "    # Calculate windows around coordinates and store in new list\n",
    "    #    low5 = int(five_prime - window/2)\n",
    "    #    high5 = int(five_prime + window/2)\n",
    "    #    low3 = int(three_prime - window/2)\n",
    "    #    high3 = int(three_prime + window/2)\n",
    "\n",
    "    #    nr = [regions[i][0],low5,high5,low3,high3,regions[i][5],regions[i][12]]\n",
    "    nr = [\n",
    "        regions[i][0],\n",
    "        five_prime,\n",
    "        three_prime,\n",
    "        regions[i][5],\n",
    "        regions[i][3],\n",
    "        regions[i][12],\n",
    "    ]\n",
    "    ts_ends.append(nr)\n",
    "\n",
    "transcript_ends = pd.DataFrame(ts_ends)\n",
    "transcript_ends = transcript_ends.rename(\n",
    "    columns={\n",
    "        0: \"chrom\",\n",
    "        1: \"fivep\",\n",
    "        2: \"threep\",\n",
    "        3: \"strand\",\n",
    "        4: \"transcriptID\",\n",
    "        5: \"geneID\",\n",
    "    }\n",
    ")\n",
    "# transcript_ends = transcript_ends.rename(columns={0:\"chrom\",1:\"low5\",2:\"high5\",3:\"low3\",\n",
    "#                                4:\"high3\",5:\"strand\",6:\"transcriptID\",7:\"geneID\"})"
   ]
  },
  {
   "cell_type": "markdown",
   "metadata": {},
   "source": [
    "### Collapse overlaps in the 50 base windows"
   ]
  },
  {
   "cell_type": "code",
   "execution_count": 129,
   "metadata": {},
   "outputs": [],
   "source": [
    "uniq_ts_ends = transcript_ends.drop_duplicates().sort_values(\n",
    "    by=[\"geneID\", \"chrom\", \"fivep\"]\n",
    ")\n",
    "uniq_genes = uniq_ts_ends[\"geneID\"].drop_duplicates()\n",
    "collapsed_ts_ends = []\n",
    "\n",
    "for i in range(len(uniq_genes)):\n",
    "    ts_working = uniq_ts_ends[uniq_ts_ends[\"geneID\"] == uniq_genes.iloc[i]]\n",
    "    bounds = [[ts_working[\"fivep\"].iloc[0], ts_working[\"threep\"].iloc[0]]]\n",
    "    if ts_working[\"strand\"].iloc[0] == \"+\":\n",
    "        collapsed_ts_ends.append(\n",
    "            [\n",
    "                ts_working[\"chrom\"].iloc[0],\n",
    "                \"hg38_refseq\",\n",
    "                \"gene_length\",\n",
    "                str(ts_working[\"fivep\"].iloc[0]),\n",
    "                str(ts_working[\"threep\"].iloc[0]),\n",
    "                \"0\",\n",
    "                ts_working[\"strand\"].iloc[0],\n",
    "                \".\",\n",
    "                str(\n",
    "                    'gene_id \"{}\"; transcript_id \"{}\"'.format(\n",
    "                        ts_working[\"geneID\"].iloc[0], ts_working[\"transcriptID\"].iloc[0]\n",
    "                    )\n",
    "                ),\n",
    "            ]\n",
    "        )\n",
    "    else:\n",
    "        collapsed_ts_ends.append(\n",
    "            [\n",
    "                ts_working[\"chrom\"].iloc[0],\n",
    "                \"hg38_refseq\",\n",
    "                \"gene_length\",\n",
    "                str(ts_working[\"threep\"].iloc[0]),\n",
    "                str(ts_working[\"fivep\"].iloc[0]),\n",
    "                \"0\",\n",
    "                ts_working[\"strand\"].iloc[0],\n",
    "                \".\",\n",
    "                str(\n",
    "                    'gene_id \"{}\"; transcript_id \"{}\"'.format(\n",
    "                        ts_working[\"geneID\"].iloc[0], ts_working[\"transcriptID\"].iloc[0]\n",
    "                    )\n",
    "                ),\n",
    "            ]\n",
    "        )\n",
    "\n",
    "    if len(ts_working) > 1:\n",
    "        for j in range(1, len(ts_working)):\n",
    "            curr_bounds = [ts_working[\"fivep\"].iloc[j], ts_working[\"threep\"].iloc[j]]\n",
    "            add_to_bounds = 0\n",
    "            for k in range(len(bounds)):\n",
    "                if (curr_bounds[0] < (bounds[k][0] - 100)) | (\n",
    "                    curr_bounds[0] > (bounds[k][0] + 100)\n",
    "                ):\n",
    "                    add_to_bounds = 1\n",
    "                elif (curr_bounds[1] < (bounds[k][1] - 100)) | (\n",
    "                    curr_bounds[1] > (bounds[k][1] + 100)\n",
    "                ):\n",
    "                    add_to_bounds = 1\n",
    "                else:\n",
    "                    add_to_bounds = 0\n",
    "                    break\n",
    "            if add_to_bounds == 1:\n",
    "                bounds.append(curr_bounds)\n",
    "                if ts_working[\"strand\"].iloc[j] == \"+\":\n",
    "                    collapsed_ts_ends.append(\n",
    "                        [\n",
    "                            ts_working[\"chrom\"].iloc[j],\n",
    "                            \"hg38_refseq\",\n",
    "                            \"gene_length\",\n",
    "                            str(curr_bounds[0]),\n",
    "                            str(curr_bounds[1]),\n",
    "                            \"0\",\n",
    "                            ts_working[\"strand\"].iloc[j],\n",
    "                            \".\",\n",
    "                            str(\n",
    "                                'gene_id \"{}\"; transcript_id \"{}\"'.format(\n",
    "                                    ts_working[\"geneID\"].iloc[j],\n",
    "                                    ts_working[\"transcriptID\"].iloc[j],\n",
    "                                )\n",
    "                            ),\n",
    "                        ]\n",
    "                    )\n",
    "                else:\n",
    "                    collapsed_ts_ends.append(\n",
    "                        [\n",
    "                            ts_working[\"chrom\"].iloc[j],\n",
    "                            \"hg38_refseq\",\n",
    "                            \"gene_length\",\n",
    "                            str(curr_bounds[1]),\n",
    "                            str(curr_bounds[0]),\n",
    "                            \"0\",\n",
    "                            ts_working[\"strand\"].iloc[j],\n",
    "                            \".\",\n",
    "                            str(\n",
    "                                'gene_id \"{}\"; transcript_id \"{}\"'.format(\n",
    "                                    ts_working[\"geneID\"].iloc[j],\n",
    "                                    ts_working[\"transcriptID\"].iloc[j],\n",
    "                                )\n",
    "                            ),\n",
    "                        ]\n",
    "                    )\n",
    "\n",
    "#    five_prime_intervals = pd.arrays.IntervalArray.from_arrays(list(ts_working['low5']),list(ts_working['high5']))\n",
    "#    three_prime_intervals = pd.arrays.IntervalArray.from_arrays(ts_working['low3'],ts_working['high3'])"
   ]
  },
  {
   "cell_type": "markdown",
   "metadata": {},
   "source": [
    "### Make outfile names"
   ]
  },
  {
   "cell_type": "code",
   "execution_count": 130,
   "metadata": {},
   "outputs": [],
   "source": [
    "indir = file1[0].split(\"/\")\n",
    "outdir = \"/\".join(indir[0:-1])\n",
    "outfile = \"\".join([outdir, \"/\", basename, \"_diff53prime.gtf\"])"
   ]
  },
  {
   "cell_type": "markdown",
   "metadata": {},
   "source": [
    "### Export data"
   ]
  },
  {
   "cell_type": "code",
   "execution_count": 131,
   "metadata": {},
   "outputs": [],
   "source": [
    "with open(outfile, \"wt\") as f:\n",
    "    for i in range(len(collapsed_ts_ends)):\n",
    "        entry = \"\\t\".join(collapsed_ts_ends[i])\n",
    "        f.write(\"\".join([entry, \"\\n\"]))"
   ]
  },
  {
   "cell_type": "code",
   "execution_count": null,
   "metadata": {},
   "outputs": [],
   "source": []
  }
 ],
 "metadata": {
  "kernelspec": {
   "display_name": "Python 3",
   "language": "python",
   "name": "python3"
  },
  "language_info": {
   "codemirror_mode": {
    "name": "ipython",
    "version": 3
   },
   "file_extension": ".py",
   "mimetype": "text/x-python",
   "name": "python",
   "nbconvert_exporter": "python",
   "pygments_lexer": "ipython3",
   "version": "3.6.5"
  }
 },
 "nbformat": 4,
 "nbformat_minor": 4
}
