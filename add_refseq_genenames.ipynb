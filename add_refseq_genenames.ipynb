{
 "cells": [
  {
   "cell_type": "markdown",
   "metadata": {},
   "source": [
    "# add_refseq_genenames.ipynb\n",
    "## This script takes in a refseq annotation bedfile and a set of geneID/transcript equivalencies and adds genenames to bedfile"
   ]
  },
  {
   "cell_type": "markdown",
   "metadata": {},
   "source": [
    "### Import libraries"
   ]
  },
  {
   "cell_type": "code",
   "execution_count": 57,
   "metadata": {},
   "outputs": [],
   "source": [
    "import math\n",
    "import numpy as np\n",
    "import pandas as pd"
   ]
  },
  {
   "cell_type": "markdown",
   "metadata": {},
   "source": [
    "### Define refseq input and equivalency file"
   ]
  },
  {
   "cell_type": "code",
   "execution_count": 58,
   "metadata": {},
   "outputs": [],
   "source": [
    "bedfile = \"/Users/lysa8537/data/annotation/dm6/dm6_refseq.bed\"\n",
    "# Equivalency file is tab delimited, two columns, transcript then matching gene id\n",
    "equivfile = \"/Users/lysa8537/data/annotation/dm6/transcript_gene_equiv.txt\"\n",
    "basename = \"dm6_refseq\""
   ]
  },
  {
   "cell_type": "markdown",
   "metadata": {},
   "source": [
    "### Dump input files into variables"
   ]
  },
  {
   "cell_type": "code",
   "execution_count": 60,
   "metadata": {},
   "outputs": [],
   "source": [
    "with open(bedfile) as f:\n",
    "    reg = []\n",
    "    for line in f:\n",
    "        entry = list(line.strip().split(\"\\t\"))\n",
    "        reg.append(entry)\n",
    "\n",
    "regions = pd.DataFrame(reg)\n",
    "\n",
    "with open(equivfile) as f:\n",
    "    eq = {}\n",
    "    for line in f:\n",
    "        entry = list(line.strip().split(\"\\t\"))\n",
    "        eq[entry[0]] = entry[1]"
   ]
  },
  {
   "cell_type": "markdown",
   "metadata": {},
   "source": [
    "### Add gene names to new column of regions df"
   ]
  },
  {
   "cell_type": "code",
   "execution_count": 61,
   "metadata": {},
   "outputs": [],
   "source": [
    "regions[12] = regions[3].map(eq)"
   ]
  },
  {
   "cell_type": "markdown",
   "metadata": {},
   "source": [
    "### Make outfile names and write out data"
   ]
  },
  {
   "cell_type": "code",
   "execution_count": 62,
   "metadata": {},
   "outputs": [],
   "source": [
    "indir = bedfile.split(\"/\")\n",
    "outdir = \"/\".join(indir[0:-1])\n",
    "outfile = \"\".join([outdir, \"/\", basename, \"_genenames_included.bed\"])\n",
    "\n",
    "regions.to_csv(outfile, sep='\\t', header=False, index=False)"
   ]
  }
 ],
 "metadata": {
  "kernelspec": {
   "display_name": "Python 3",
   "language": "python",
   "name": "python3"
  },
  "language_info": {
   "codemirror_mode": {
    "name": "ipython",
    "version": 3
   },
   "file_extension": ".py",
   "mimetype": "text/x-python",
   "name": "python",
   "nbconvert_exporter": "python",
   "pygments_lexer": "ipython3",
   "version": "3.6.5"
  }
 },
 "nbformat": 4,
 "nbformat_minor": 4
}
