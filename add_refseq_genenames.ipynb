{
 "cells": [
  {
   "cell_type": "markdown",
   "metadata": {},
   "source": [
    "# add_refseq_genenames.ipynb\n",
    "## This script takes in a refseq annotation bedfile and a set of geneID/transcript equivalencies and adds genenames to bedfile"
   ]
  },
  {
   "cell_type": "markdown",
   "metadata": {},
   "source": [
    "### Import libraries"
   ]
  },
  {
   "cell_type": "code",
   "execution_count": 57,
   "metadata": {},
   "outputs": [],
   "source": [
    "import math\n",
    "\n",
    "import numpy as np\n",
    "import pandas as pd"
   ]
  },
  {
   "cell_type": "markdown",
   "metadata": {},
   "source": [
    "### Define refseq input and equivalency file"
   ]
  },
  {
   "cell_type": "code",
   "execution_count": 58,
   "metadata": {},
   "outputs": [],
   "source": [
    "file1 = [\"/home/zarko/Data/annotation/mm10/\" \"mm10_refseq.bed\"]\n",
    "file2 = [\"/home/zarko/Data/annotation/mm10/\" \"transcript_headings.txt\"]\n",
    "basename = \"mm10_refseq\""
   ]
  },
  {
   "cell_type": "markdown",
   "metadata": {},
   "source": [
    "### Dump input files into variables"
   ]
  },
  {
   "cell_type": "code",
   "execution_count": 60,
   "metadata": {},
   "outputs": [],
   "source": [
    "with open(file1[0]) as f:\n",
    "    reg = []\n",
    "    for line in f:\n",
    "        entry = list(line.strip().split(\"\\t\"))\n",
    "        reg.append(entry)\n",
    "\n",
    "regions = pd.DataFrame(reg)\n",
    "\n",
    "with open(file2[0]) as f:\n",
    "    eq = []\n",
    "    for line in f:\n",
    "        transcript = line.strip().split(\">\")[1].split(\" Mus\")[0]\n",
    "        geneID = line.strip().split(\"(\")[-1].split(\")\")[0]\n",
    "        eq.append([transcript, geneID])\n",
    "\n",
    "equiv = pd.DataFrame(data=eq, columns=[\"transcript\", \"geneID\"])"
   ]
  },
  {
   "cell_type": "markdown",
   "metadata": {},
   "source": [
    "### Add gene names to new column of regions df"
   ]
  },
  {
   "cell_type": "code",
   "execution_count": 61,
   "metadata": {},
   "outputs": [],
   "source": [
    "geneids_to_add = []\n",
    "df_indeces = []\n",
    "for i in range(len(regions)):\n",
    "    if regions[3].iloc[i] in equiv[\"transcript\"].values:\n",
    "        df_indeces.append(i)\n",
    "        to_add = equiv[equiv[\"transcript\"] == regions[3].iloc[i]][\"geneID\"].iloc[0]\n",
    "        geneids_to_add.append(to_add)\n",
    "\n",
    "filt_regions = regions.loc[df_indeces]\n",
    "filt_regions[\"12\"] = geneids_to_add"
   ]
  },
  {
   "cell_type": "markdown",
   "metadata": {},
   "source": [
    "### Make outfile names and write out data"
   ]
  },
  {
   "cell_type": "code",
   "execution_count": 62,
   "metadata": {},
   "outputs": [],
   "source": [
    "indir = file1[0].split(\"/\")\n",
    "outdir = \"/\".join(indir[0:-1])\n",
    "outfile = \"\".join([outdir, \"/\", basename, \"_genenames_included.bed\"])\n",
    "\n",
    "with open(outfile, \"wt\") as f:\n",
    "    for i in range(len(filt_regions)):\n",
    "        entry = \"\\t\".join(filt_regions.iloc[i])\n",
    "        f.write(\"\".join([entry, \"\\n\"]))"
   ]
  },
  {
   "cell_type": "code",
   "execution_count": null,
   "metadata": {},
   "outputs": [],
   "source": []
  }
 ],
 "metadata": {
  "kernelspec": {
   "display_name": "Python 3",
   "language": "python",
   "name": "python3"
  },
  "language_info": {
   "codemirror_mode": {
    "name": "ipython",
    "version": 3
   },
   "file_extension": ".py",
   "mimetype": "text/x-python",
   "name": "python",
   "nbconvert_exporter": "python",
   "pygments_lexer": "ipython3",
   "version": "3.8.3"
  }
 },
 "nbformat": 4,
 "nbformat_minor": 4
}
