{
 "cells": [
  {
   "cell_type": "markdown",
   "metadata": {},
   "source": [
    "# window_calc.ipynb\n",
    "## Takes a bedfile of certain regions and calculates <br>  a window around the region midpt"
   ]
  },
  {
   "cell_type": "markdown",
   "metadata": {},
   "source": [
    "### Import libraries"
   ]
  },
  {
   "cell_type": "code",
   "execution_count": 7,
   "metadata": {},
   "outputs": [],
   "source": [
    "import math\n",
    "import sys"
   ]
  },
  {
   "cell_type": "markdown",
   "metadata": {},
   "source": [
    "### Take inputs from command line (for exec) or define (for nb)\n",
    "\n",
    "file1 is a bedfile of regions of interest\n",
    "\n",
    "basename is the basename of the output file\n",
    "\n",
    "window is the total desired size of the window around the midpt, in bp"
   ]
  },
  {
   "cell_type": "code",
   "execution_count": 8,
   "metadata": {},
   "outputs": [],
   "source": [
    "# Check if files are there\n",
    "\n",
    "# if len(sys.argv) < 3:\n",
    "#  print(\"Not enough arguments, rerun program\")\n",
    "#  sys.exit()\n",
    "\n",
    "# Take in arguments from command line\n",
    "\n",
    "# file1 = sys.argv[1]\n",
    "# basename = sys.argv[2]\n",
    "# window = sys.argv[3]\n",
    "\n",
    "file1 = \"/home/zarko/Data/sig_nutlin.bed\"\n",
    "basename = \"sig_nutlin\"\n",
    "window = 50"
   ]
  },
  {
   "cell_type": "markdown",
   "metadata": {},
   "source": [
    "### Dump file into variable"
   ]
  },
  {
   "cell_type": "code",
   "execution_count": 9,
   "metadata": {},
   "outputs": [],
   "source": [
    "with open(file1) as f:\n",
    "    regions = []\n",
    "    for line in f:\n",
    "        reg = tuple(line.strip().split(\"\\t\"))\n",
    "        regions.append(reg)"
   ]
  },
  {
   "cell_type": "markdown",
   "metadata": {},
   "source": [
    "### Calculate midpts of region and endpoints of resultant window"
   ]
  },
  {
   "cell_type": "code",
   "execution_count": 71,
   "metadata": {},
   "outputs": [],
   "source": [
    "new_regions = []\n",
    "\n",
    "for i in range(len(regions)):\n",
    "    coord1 = int(regions[i][1])\n",
    "    coord2 = int(regions[i][2])\n",
    "    midpt = math.ceil((coord2 + coord1) / 2)\n",
    "    low = int(midpt - window / 2)\n",
    "    high = int(midpt + window / 2)\n",
    "    nr = [\n",
    "        str(regions[i][0]),\n",
    "        str(low),\n",
    "        str(high),\n",
    "        str(regions[i][3]),\n",
    "        str(regions[i][4]),\n",
    "        str(regions[i][5]),\n",
    "    ]\n",
    "    new_regions.append(\"\".join([\"\\t\".join(nr), \"\\n\"]))"
   ]
  },
  {
   "cell_type": "markdown",
   "metadata": {},
   "source": [
    "### Make outfile name"
   ]
  },
  {
   "cell_type": "code",
   "execution_count": 73,
   "metadata": {},
   "outputs": [],
   "source": [
    "indir = file1.split(\"/\")\n",
    "outdir = \"/\".join(indir[0:-1])\n",
    "outfile = \"\".join([outdir, \"/\", basename, \"_\", str(window), \"bp.txt\"])"
   ]
  },
  {
   "cell_type": "markdown",
   "metadata": {},
   "source": [
    "### Export data"
   ]
  },
  {
   "cell_type": "code",
   "execution_count": 75,
   "metadata": {},
   "outputs": [],
   "source": [
    "with open(outfile, \"wt\") as f:\n",
    "    for i in range(len(new_regions)):\n",
    "        f.write(new_regions[i])"
   ]
  }
 ],
 "metadata": {
  "kernelspec": {
   "display_name": "Python 3",
   "language": "python",
   "name": "python3"
  },
  "language_info": {
   "codemirror_mode": {
    "name": "ipython",
    "version": 3
   },
   "file_extension": ".py",
   "mimetype": "text/x-python",
   "name": "python",
   "nbconvert_exporter": "python",
   "pygments_lexer": "ipython3",
   "version": "3.8.3"
  }
 },
 "nbformat": 4,
 "nbformat_minor": 4
}
