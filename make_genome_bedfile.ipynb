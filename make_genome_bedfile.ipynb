{
 "cells": [
  {
   "cell_type": "markdown",
   "metadata": {},
   "source": [
    "### Import packages"
   ]
  },
  {
   "cell_type": "code",
   "execution_count": 1,
   "metadata": {},
   "outputs": [],
   "source": [
    "import sys\n",
    "import math\n",
    "import numpy as np\n",
    "import pandas as pd"
   ]
  },
  {
   "cell_type": "markdown",
   "metadata": {},
   "source": [
    "### Define genome"
   ]
  },
  {
   "cell_type": "code",
   "execution_count": 184,
   "metadata": {},
   "outputs": [],
   "source": [
    "genome = \"AGPv4\"\n",
    "genDir = \"\".join([\"/scratch/Shares/dowell/genomes/\",genome,\"/\"])"
   ]
  },
  {
   "cell_type": "markdown",
   "metadata": {},
   "source": [
    "### Import file"
   ]
  },
  {
   "cell_type": "code",
   "execution_count": 6,
   "metadata": {},
   "outputs": [
    {
     "name": "stderr",
     "output_type": "stream",
     "text": [
      "/home/lsanford/anaconda3/lib/python3.8/site-packages/IPython/core/interactiveshell.py:3071: DtypeWarning: Columns (0) have mixed types.Specify dtype option on import or set low_memory=False.\n",
      "  has_raised = await self.run_ast_nodes(code_ast.body, cell_name,\n"
     ]
    }
   ],
   "source": [
    "file1 = \"\".join([genDir,genome,\"_refseq.gtf\"])\n",
    "\n",
    "regions = pd.read_table(file1,header=None,index_col=False,names=[\"chrom\",\"info\",\"ann_type\",\"coor1\",\"coor2\",\"dot\",\"strand\",\"dot2\",\"gene_info\"])"
   ]
  },
  {
   "cell_type": "markdown",
   "metadata": {},
   "source": [
    "### Separate out relevant data and initialize bedfile dataframe"
   ]
  },
  {
   "cell_type": "code",
   "execution_count": 31,
   "metadata": {},
   "outputs": [],
   "source": [
    "all_transcripts = regions[\"gene_info\"].str.split(\"transcript_id \\\"\", expand = True)\n",
    "all_transcripts = all_transcripts[1].str.split(\"\\\"\", expand = True)\n",
    "regions[\"transcript\"] = all_transcripts[0]\n",
    "exons = regions[regions[\"ann_type\"] == \"exon\"]\n",
    "startstop = regions[regions[\"ann_type\"].str.contains('codon')]\n",
    "transcripts = all_transcripts[0].unique()\n",
    "\n",
    "bedlines = pd.DataFrame(columns=[\"chrom\",\"coor1\",\"coor2\",\"transcript\",\n",
    "                                 \"zero1\",\"strand\",\"three\",\"five\",\"zero2\",\n",
    "                                 \"num_ex\",\"length\",\"starts\"])"
   ]
  },
  {
   "cell_type": "markdown",
   "metadata": {},
   "source": [
    "### Loop through transcripts and extract coordinates"
   ]
  },
  {
   "cell_type": "code",
   "execution_count": 32,
   "metadata": {},
   "outputs": [
    {
     "name": "stderr",
     "output_type": "stream",
     "text": [
      "<ipython-input-32-52ec42403bf6>:13: SettingWithCopyWarning: \n",
      "A value is trying to be set on a copy of a slice from a DataFrame.\n",
      "Try using .loc[row_indexer,col_indexer] = value instead\n",
      "\n",
      "See the caveats in the documentation: https://pandas.pydata.org/pandas-docs/stable/user_guide/indexing.html#returning-a-view-versus-a-copy\n",
      "  curr_ex[\"length\"] = curr_ex[\"coor2\"] - curr_ex[\"coor1\"] + 1\n",
      "<ipython-input-32-52ec42403bf6>:14: SettingWithCopyWarning: \n",
      "A value is trying to be set on a copy of a slice from a DataFrame.\n",
      "Try using .loc[row_indexer,col_indexer] = value instead\n",
      "\n",
      "See the caveats in the documentation: https://pandas.pydata.org/pandas-docs/stable/user_guide/indexing.html#returning-a-view-versus-a-copy\n",
      "  curr_ex[\"starts\"] = curr_ex[\"coor1\"] - mincoor - 1\n"
     ]
    }
   ],
   "source": [
    "for ts in range(len(transcripts)):\n",
    "    curr_ex = exons[exons[\"transcript\"] == transcripts[ts]]\n",
    "    \n",
    "    if curr_ex.empty:\n",
    "        continue\n",
    "    else:\n",
    "        mincoor = min(curr_ex[\"coor1\"]) - 1\n",
    "        maxcoor = max(curr_ex[\"coor2\"]) + 1\n",
    "        numex = len(curr_ex)\n",
    "        strand = curr_ex.iloc[0,6]\n",
    "        chrom = curr_ex.iloc[0,0]\n",
    "\n",
    "        curr_ex[\"length\"] = curr_ex[\"coor2\"] - curr_ex[\"coor1\"] + 1\n",
    "        curr_ex[\"starts\"] = curr_ex[\"coor1\"] - mincoor - 1\n",
    "        bedlen = \",\".join(map(str,list(curr_ex[\"length\"])))\n",
    "        bedlen = \"\".join([bedlen,\",\"])\n",
    "        bedst = \",\".join(map(str,list(curr_ex[\"starts\"])))\n",
    "        bedst = \"\".join([bedst,\",\"])\n",
    "\n",
    "        curr_st = startstop[startstop[\"transcript\"] == transcripts[ts]]\n",
    "        \n",
    "        if curr_st.empty:\n",
    "            three = mincoor\n",
    "            five = maxcoor\n",
    "        else:\n",
    "            three = min(curr_st[\"coor1\"]) - 1\n",
    "            five = max(curr_st[\"coor2\"]) + 1\n",
    "\n",
    "        newline = pd.DataFrame([[chrom,mincoor,maxcoor,transcripts[ts],0,strand,\n",
    "                                three,five,0,numex,bedlen,bedst]],\n",
    "                               columns=[\"chrom\",\"coor1\",\"coor2\",\"transcript\",\n",
    "                                        \"zero1\",\"strand\",\"three\",\"five\",\"zero2\",\n",
    "                                        \"num_ex\",\"length\",\"starts\"])\n",
    "\n",
    "        bedlines = bedlines.append(newline)"
   ]
  },
  {
   "cell_type": "markdown",
   "metadata": {},
   "source": [
    "### Write out file"
   ]
  },
  {
   "cell_type": "code",
   "execution_count": 202,
   "metadata": {},
   "outputs": [],
   "source": [
    "outfile = ''.join([genDir,'/',genome,'_refseq.bed'])\n",
    "bedlines.to_csv(outfile,sep=\"\\t\",index=False,index_label=False,header=False)"
   ]
  }
 ],
 "metadata": {
  "kernelspec": {
   "display_name": "Python 3",
   "language": "python",
   "name": "python3"
  },
  "language_info": {
   "codemirror_mode": {
    "name": "ipython",
    "version": 3
   },
   "file_extension": ".py",
   "mimetype": "text/x-python",
   "name": "python",
   "nbconvert_exporter": "python",
   "pygments_lexer": "ipython3",
   "version": "3.8.3"
  }
 },
 "nbformat": 4,
 "nbformat_minor": 4
}
