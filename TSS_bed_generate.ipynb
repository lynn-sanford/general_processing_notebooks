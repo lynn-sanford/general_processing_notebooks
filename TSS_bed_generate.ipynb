{
 "cells": [
  {
   "cell_type": "markdown",
   "metadata": {},
   "source": [
    "# TSS_bed_generate.ipynb\n",
    "## This script takes in refseq annotation files of genes <br> and genes filtered for start codons and calculates <br> a window around either the 5' end of the gene <br> annotation or the start codon"
   ]
  },
  {
   "cell_type": "markdown",
   "metadata": {},
   "source": [
    "### Import libraries"
   ]
  },
  {
   "cell_type": "code",
   "execution_count": 7,
   "metadata": {},
   "outputs": [],
   "source": [
    "import math"
   ]
  },
  {
   "cell_type": "markdown",
   "metadata": {},
   "source": [
    "### Define refseq input, output basename, and desired TSS window"
   ]
  },
  {
   "cell_type": "code",
   "execution_count": 12,
   "metadata": {},
   "outputs": [],
   "source": [
    "file1 = [\n",
    "    \"/home/lsanford/Documents/data/genomes/hg38/\" \"hg38_refseq_genenames_included.bed\"\n",
    "]\n",
    "file2 = [\"/home/lsanford/Documents/data/genomes/hg38/\" \"hg38_refseq_start_codons.txt\"]\n",
    "basename = \"hg38_refseq\"\n",
    "window = 1000"
   ]
  },
  {
   "cell_type": "markdown",
   "metadata": {},
   "source": [
    "### Dump input files into variables"
   ]
  },
  {
   "cell_type": "code",
   "execution_count": 13,
   "metadata": {},
   "outputs": [],
   "source": [
    "with open(file1[0]) as f:\n",
    "    regions = []\n",
    "    for line in f:\n",
    "        reg = tuple(line.strip().split(\"\\t\"))\n",
    "        regions.append(reg)\n",
    "\n",
    "with open(file2[0]) as f:\n",
    "    starts = []\n",
    "    starts_idx = []\n",
    "    for line in f:\n",
    "        sc = tuple(line.strip().split(\"\\t\"))\n",
    "        starts.append(sc)\n",
    "        starts_idx.append(sc[5].split('\"')[1])"
   ]
  },
  {
   "cell_type": "markdown",
   "metadata": {},
   "source": [
    "### Depending on accession (NM or NR), take most 5' coordinate <br> based on strand and (for NM) start codon, calculate windows <br> around them, and store windows in a printable bed format"
   ]
  },
  {
   "cell_type": "code",
   "execution_count": 58,
   "metadata": {},
   "outputs": [],
   "source": [
    "TSS_start = []\n",
    "TSS_5prime = []\n",
    "\n",
    "for i in range(len(regions)):\n",
    "\n",
    "    # Find strand\n",
    "    strand = regions[i][5]\n",
    "\n",
    "    # NM entries have start codons\n",
    "    if regions[i][3].split(\"_\")[0] == \"NM\":\n",
    "        accession = regions[i][3]\n",
    "\n",
    "        # Find location in start codon table of accession\n",
    "        idx_loc = starts_idx.index(accession)\n",
    "\n",
    "        # Find most 5' corrdinate of whole gene annotation or start codon\n",
    "        if strand == \"+\":\n",
    "            five_prime = int(regions[i][1])\n",
    "            start_base = int(starts[idx_loc][2])\n",
    "        else:\n",
    "            five_prime = int(regions[i][2])\n",
    "            start_base = int(starts[idx_loc][3])\n",
    "\n",
    "    # NR entries have no start codon annotations\n",
    "    # Use 5' most coordinate for both tables\n",
    "    else:\n",
    "\n",
    "        if strand == \"+\":\n",
    "            five_prime = int(regions[i][1])\n",
    "            start_base = five_prime\n",
    "        else:\n",
    "            five_prime = int(regions[i][2])\n",
    "            start_base = five_prime\n",
    "\n",
    "    # Calculate windows around 5'-most coords and store in printable list\n",
    "    low = int(five_prime - window / 2)\n",
    "    high = int(five_prime + window / 2)\n",
    "    nr = [\n",
    "        str(regions[i][0]),\n",
    "        str(low),\n",
    "        str(high),\n",
    "        str(regions[i][3]),\n",
    "        str(regions[i][4]),\n",
    "        str(regions[i][5]),\n",
    "    ]\n",
    "    TSS_5prime.append(\"\".join([\"\\t\".join(nr), \"\\n\"]))\n",
    "\n",
    "    # Calculate windows around start bases and store in printable list\n",
    "    low = int(start_base - window / 2)\n",
    "    high = int(start_base + window / 2)\n",
    "    nr = [\n",
    "        str(regions[i][0]),\n",
    "        str(low),\n",
    "        str(high),\n",
    "        str(regions[i][3]),\n",
    "        str(regions[i][4]),\n",
    "        str(regions[i][5]),\n",
    "    ]\n",
    "    TSS_start.append(\"\".join([\"\\t\".join(nr), \"\\n\"]))"
   ]
  },
  {
   "cell_type": "markdown",
   "metadata": {},
   "source": [
    "### Make outfile names"
   ]
  },
  {
   "cell_type": "code",
   "execution_count": 60,
   "metadata": {},
   "outputs": [],
   "source": [
    "indir = file1.split(\"/\")\n",
    "outdir = \"/\".join(indir[0:-1])\n",
    "outfile_5prime = \"\".join([outdir, \"/\", basename, \"_5prime_\", str(window), \"bp.bed\"])\n",
    "outfile_startcodons = \"\".join(\n",
    "    [outdir, \"/\", basename, \"_startcodons_\", str(window), \"bp.bed\"]\n",
    ")"
   ]
  },
  {
   "cell_type": "markdown",
   "metadata": {},
   "source": [
    "### Export data"
   ]
  },
  {
   "cell_type": "code",
   "execution_count": 62,
   "metadata": {},
   "outputs": [],
   "source": [
    "with open(outfile_5prime, \"wt\") as f:\n",
    "    for i in range(len(TSS_5prime)):\n",
    "        f.write(TSS_5prime[i])\n",
    "\n",
    "with open(outfile_startcodons, \"wt\") as f:\n",
    "    for i in range(len(TSS_start)):\n",
    "        f.write(TSS_start[i])"
   ]
  }
 ],
 "metadata": {
  "kernelspec": {
   "display_name": "Python 3",
   "language": "python",
   "name": "python3"
  },
  "language_info": {
   "codemirror_mode": {
    "name": "ipython",
    "version": 3
   },
   "file_extension": ".py",
   "mimetype": "text/x-python",
   "name": "python",
   "nbconvert_exporter": "python",
   "pygments_lexer": "ipython3",
   "version": "3.8.3"
  }
 },
 "nbformat": 4,
 "nbformat_minor": 4
}
