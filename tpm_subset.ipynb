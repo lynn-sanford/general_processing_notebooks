{
 "cells": [
  {
   "cell_type": "markdown",
   "metadata": {},
   "source": [
    "## Script to take a large file of TPMs across multiple samples and many genes <br> and subset to a certain gene list"
   ]
  },
  {
   "cell_type": "markdown",
   "metadata": {},
   "source": [
    "### Import packages"
   ]
  },
  {
   "cell_type": "code",
   "execution_count": 81,
   "metadata": {},
   "outputs": [],
   "source": [
    "import csv\n",
    "\n",
    "import numpy as np\n",
    "import pandas as pd"
   ]
  },
  {
   "cell_type": "markdown",
   "metadata": {},
   "source": [
    "### Define inputs and read in data\n",
    "#### In this case the subset list is a list of human TFs from Uniprot"
   ]
  },
  {
   "cell_type": "code",
   "execution_count": 76,
   "metadata": {},
   "outputs": [],
   "source": [
    "infile = \"/home/lsanford/Desktop/all_samples_TPM.txt\"\n",
    "outfile = \"/home/lsanford/Desktop/all_samples_TPM_tfonly.txt\"\n",
    "tpm_data = pd.read_csv(infile, sep=\"\\t\")\n",
    "tf_list_file = \"/home/lsanford/Desktop/tf_list_uniprot.tab\"\n",
    "tf_list_df = pd.read_csv(tf_list_file, sep=\"\\t\")\n",
    "tf_list = list(tf_list_df[\"Gene names  (primary )\"].unique())"
   ]
  },
  {
   "cell_type": "markdown",
   "metadata": {},
   "source": [
    "### Subset all data to just the gene list"
   ]
  },
  {
   "cell_type": "code",
   "execution_count": 86,
   "metadata": {},
   "outputs": [],
   "source": [
    "tf_tpm_data = pd.DataFrame()\n",
    "for i in range(len(tpm_data)):\n",
    "    if tpm_data.iloc[i][\"gene_id\"] in tf_list:\n",
    "        tf_tpm_data = tf_tpm_data.append(tpm_data.iloc[i])"
   ]
  },
  {
   "cell_type": "markdown",
   "metadata": {},
   "source": [
    "### Figure out if anything from gene list isn't found <br> (to look for non-matching identifiers)"
   ]
  },
  {
   "cell_type": "code",
   "execution_count": 74,
   "metadata": {},
   "outputs": [],
   "source": [
    "tf_list_found = list(tf_tpm_data[\"gene_id\"].unique())\n",
    "tf_list_not_found = []\n",
    "for tf in tf_list:\n",
    "    if tf not in tf_list_found:\n",
    "        tf_list_not_found.append(tf)"
   ]
  },
  {
   "cell_type": "markdown",
   "metadata": {},
   "source": [
    "### Write out TPM subset"
   ]
  },
  {
   "cell_type": "code",
   "execution_count": 93,
   "metadata": {},
   "outputs": [],
   "source": [
    "with open(outfile, \"w\") as f:\n",
    "    w = csv.writer(f)\n",
    "    w.writerow(list(tf_tpm_data.columns))\n",
    "    for i in range(len(tf_tpm_data)):\n",
    "        w.writerow(tf_tpm_data.iloc[i])"
   ]
  }
 ],
 "metadata": {
  "kernelspec": {
   "display_name": "Python 3",
   "language": "python",
   "name": "python3"
  },
  "language_info": {
   "codemirror_mode": {
    "name": "ipython",
    "version": 3
   },
   "file_extension": ".py",
   "mimetype": "text/x-python",
   "name": "python",
   "nbconvert_exporter": "python",
   "pygments_lexer": "ipython3",
   "version": "3.8.3"
  }
 },
 "nbformat": 4,
 "nbformat_minor": 4
}
