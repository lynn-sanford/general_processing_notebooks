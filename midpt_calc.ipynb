{
 "cells": [
  {
   "cell_type": "markdown",
   "metadata": {},
   "source": [
    "# midpt_calc.ipynb\n",
    "## Takes a coverage bedfile of certain regions and <br> calculates a window around the midpt between <br> two maxima"
   ]
  },
  {
   "cell_type": "markdown",
   "metadata": {},
   "source": [
    "### Import packages"
   ]
  },
  {
   "cell_type": "code",
   "execution_count": 253,
   "metadata": {},
   "outputs": [],
   "source": [
    "import sys\n",
    "import math\n",
    "import numpy as np\n",
    "import pandas as pd"
   ]
  },
  {
   "cell_type": "markdown",
   "metadata": {},
   "source": [
    "### Take inputs from command line (for exec) or define (for nb)\n",
    "\n",
    "file1 is a coverage bedfile pre-filtered for regions of interest with <br>bedtools genomecov\n",
    "\n",
    "basename is the basename of the output file\n",
    "\n",
    "window is the total desired size of the window around the midpt, in bp"
   ]
  },
  {
   "cell_type": "code",
   "execution_count": 254,
   "metadata": {},
   "outputs": [],
   "source": [
    "# Check if files are there\n",
    "\n",
    "#if len(sys.argv) < 3:\n",
    "#  print(\"Not enough arguments, rerun program\")\n",
    "#  sys.exit()\n",
    "\n",
    "# Take in arguments from command line\n",
    "\n",
    "#file1 = sys.argv[1]\n",
    "#basename = sys.argv[2]\n",
    "#window = sys.argv[3]\n",
    "\n",
    "file1 = '/home/zarko/Data/SRR1105736_sig_cov.txt'\n",
    "basename = 'SRR1105736_sig'\n",
    "window = 30"
   ]
  },
  {
   "cell_type": "markdown",
   "metadata": {},
   "source": [
    "### Read in coverage bedfile and dump into variable"
   ]
  },
  {
   "cell_type": "code",
   "execution_count": 255,
   "metadata": {},
   "outputs": [],
   "source": [
    "with open(file1) as f:\n",
    "    coverage = []\n",
    "    for line in f:\n",
    "        cov = tuple(line.strip().split(\"\\t\"))\n",
    "        coverage.append(cov)"
   ]
  },
  {
   "cell_type": "markdown",
   "metadata": {},
   "source": [
    "### Parse out each histogram and find midpt, then make windows"
   ]
  },
  {
   "cell_type": "code",
   "execution_count": 259,
   "metadata": {},
   "outputs": [],
   "source": [
    "cov_full = pd.DataFrame(coverage, columns=['Chr','Beg','End','Fill','Strand',\n",
    "                                           'RegID','Pos','Cov'])\n",
    "regions = pd.unique(cov_full['RegID'])\n",
    "new_regions = []\n",
    "\n",
    "for reg in range(len(regions)):\n",
    "    reg_curr = regions[reg]\n",
    "    cov_curr = cov_full[cov_full['RegID'] == reg_curr]\n",
    "    \n",
    "    # Divide current histogram in half to analyze separately\n",
    "    length = len(cov_curr)\n",
    "    cen = (math.ceil(length/2))\n",
    "    indeces_max = np.array([0,0])\n",
    "    \n",
    "    # For each half, find max value and index of max value\n",
    "    for i in [0,1]:\n",
    "        \n",
    "        if i == 0:\n",
    "            cov_half = cov_curr[0:cen]\n",
    "        else:\n",
    "            cov_half = cov_curr[cen:]\n",
    "        \n",
    "        max_count = max(cov_half['Cov'])\n",
    "        num_max = len(cov_half[cov_half['Cov'] == max_count])\n",
    "        cov_max = cov_half[cov_half['Cov'] == max_count]\n",
    "        indeces_max[i] = cov_max.index[math.floor(num_max/2)]\n",
    "    \n",
    "    # Find index of midpt between max values and corresponding coordinate\n",
    "    midpt = indeces_max[0] + math.ceil((indeces_max[1]-indeces_max[0]) / 2)\n",
    "    coord = int(cov_curr.iloc[0,1]) + int(cov_curr.loc[midpt]['Pos']) - 1\n",
    "    \n",
    "    # Make window\n",
    "    coord_w1 = int(coord - math.ceil(window/2))\n",
    "    coord_w2 = int(coord + math.ceil(window/2))\n",
    "    nreg = [cov_curr.iloc[0,0],str(coord_w1),str(coord_w2),\n",
    "            cov_curr.iloc[0,3],cov_curr.iloc[0,4],\n",
    "            cov_curr.iloc[0,5]]\n",
    "    new_regions.append(''.join(['\\t'.join(nreg),'\\n']))"
   ]
  },
  {
   "cell_type": "markdown",
   "metadata": {},
   "source": [
    "### Make BED filenames for region windows for FASTA extraction"
   ]
  },
  {
   "cell_type": "code",
   "execution_count": 278,
   "metadata": {},
   "outputs": [],
   "source": [
    "indir = file1.split('/')\n",
    "outdir = '/'.join(indir[0:-1])\n",
    "outfile = ''.join([outdir,'/',basename,'_',str(window),'bp.txt'])"
   ]
  },
  {
   "cell_type": "markdown",
   "metadata": {},
   "source": [
    "### Export data"
   ]
  },
  {
   "cell_type": "code",
   "execution_count": 280,
   "metadata": {},
   "outputs": [],
   "source": [
    "with open(outfile, 'wt') as f:\n",
    "  for i in range(len(new_regions)):\n",
    "    f.write(new_regions[i])"
   ]
  }
 ],
 "metadata": {
  "kernelspec": {
   "display_name": "Python 3",
   "language": "python",
   "name": "python3"
  },
  "language_info": {
   "codemirror_mode": {
    "name": "ipython",
    "version": 3
   },
   "file_extension": ".py",
   "mimetype": "text/x-python",
   "name": "python",
   "nbconvert_exporter": "python",
   "pygments_lexer": "ipython3",
   "version": "3.8.3"
  }
 },
 "nbformat": 4,
 "nbformat_minor": 4
}
